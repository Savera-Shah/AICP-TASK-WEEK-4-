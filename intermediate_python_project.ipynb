{
  "nbformat": 4,
  "nbformat_minor": 0,
  "metadata": {
    "colab": {
      "provenance": [],
      "authorship_tag": "ABX9TyMhdtFU8eSJa5m0jEJAVl4d",
      "include_colab_link": true
    },
    "kernelspec": {
      "name": "python3",
      "display_name": "Python 3"
    },
    "language_info": {
      "name": "python"
    }
  },
  "cells": [
    {
      "cell_type": "markdown",
      "metadata": {
        "id": "view-in-github",
        "colab_type": "text"
      },
      "source": [
        "<a href=\"https://colab.research.google.com/github/Savera-Shah/AICP-TASK-WEEK-4-/blob/main/intermediate_python_project.ipynb\" target=\"_parent\"><img src=\"https://colab.research.google.com/assets/colab-badge.svg\" alt=\"Open In Colab\"/></a>"
      ]
    },
    {
      "cell_type": "markdown",
      "source": [
        "# **01_high_low_game.py**"
      ],
      "metadata": {
        "id": "ypva6HyY1V9S"
      }
    },
    {
      "cell_type": "code",
      "execution_count": null,
      "metadata": {
        "colab": {
          "base_uri": "https://localhost:8080/"
        },
        "id": "XMTnsaudyhmJ",
        "outputId": "80e336bf-1720-48cd-b8ee-38ee02b4426e"
      },
      "outputs": [
        {
          "output_type": "stream",
          "name": "stdout",
          "text": [
            ".....welcome to high_low game.....\n",
            "-----------------------------------\n",
            "round no : 1\n",
            "Do you think your number is higher or lower than the computer's? (h/l):   h\n",
            "you are right ! the computer no is : 55\n",
            "Your score is now 1\n",
            "\n",
            "round no : 2\n",
            "Do you think your number is higher or lower than the computer's? (h/l):   l\n",
            "you are right ! the computer no is : 37\n",
            "Your score is now 2\n",
            "\n",
            "round no : 3\n",
            "Do you think your number is higher or lower than the computer's? (h/l):   h\n",
            "you are right ! the computer no is : 52\n",
            "Your score is now 3\n",
            "\n",
            "round no : 4\n",
            "Do you think your number is higher or lower than the computer's? (h/l):   h\n",
            "you are right ! the computer no is : 80\n",
            "Your score is now 4\n",
            "\n",
            "round no : 5\n",
            "Do you think your number is higher or lower than the computer's? (h/l):   h\n",
            "Aww, that's incorrect. The computer's number was 73\n",
            "Your score is now 4\n",
            "\n",
            "\n",
            "...Thanks for playing ...\n",
            "\n",
            "----------------------------------\n",
            "\n",
            "Good job! You played well with a score of 4.\n",
            "\n"
          ]
        }
      ],
      "source": [
        "import random\n",
        "\n",
        "def high_low_game():\n",
        "    num_rounds = 5\n",
        "    score = 0\n",
        "\n",
        "    print(\".....welcome to high_low game.....\")\n",
        "    print(\"-----------------------------------\")\n",
        "\n",
        "    for round in range(1, num_rounds+1):\n",
        "\n",
        "        print(f\"round no : {round}\")\n",
        "        user_guess = random.randint(1,100)\n",
        "        comp_guess = random.randint(1,100)\n",
        "\n",
        "        guess = input(\"Do you think your number is higher or lower than the computer's? (h/l):   \")\n",
        "\n",
        "        while guess not in [\"h\" , \"l\"]:\n",
        "            guess =input(\"Please enter either h for higher or l for lower : \")\n",
        "\n",
        "        if (guess == \"h\" and user_guess> comp_guess)or\\\n",
        "            ( guess ==\"l\" and user_guess<comp_guess):\n",
        "            print(f\"you are right ! the computer no is : {comp_guess}\")\n",
        "            score +=1\n",
        "        else :\n",
        "            print(f\"Aww, that's incorrect. The computer's number was {comp_guess}\")\n",
        "        print(f\"Your score is now {score}\\n\")\n",
        "\n",
        "    print (f\"\\n...Thanks for playing ...\\n\")\n",
        "    print(f\"----------------------------------\\n\")\n",
        "\n",
        "    if score == num_rounds:\n",
        "        print (f\"Wow! Congratulations, you achieved a perfect score of {score}!\\n\")\n",
        "    elif score>= num_rounds//2:\n",
        "        print(f\"Good job! You played well with a score of {score}.\\n\")\n",
        "    else:\n",
        "        print(f\"Better luck next time!\\n\")\n",
        "\n",
        "high_low_game()\n"
      ]
    },
    {
      "cell_type": "markdown",
      "source": [
        "# **02_Planetary Weight Calculator.py**"
      ],
      "metadata": {
        "id": "0Muz5BS2y8Q2"
      }
    },
    {
      "cell_type": "code",
      "source": [
        "MERCURY_GRAVITY = 0.376\n",
        "VENUS_GRAVITY = 0.889\n",
        "MARS_GRAVITY = 0.378\n",
        "JUPITER_GRAVITY = 2.36\n",
        "SATURN_GRAVITY = 1.081\n",
        "URANUS_GRAVITY = 0.815\n",
        "NEPTUNE_GRAVITY = 1.14\n",
        "\n",
        "def main():\n",
        "    print(f\"\\n-----------------PLANETERY_WEIGHT_CALCUTATOR -----------------\\n\")\n",
        "    print(f\"NAMES OF PLANETS :\\n1.mercury\\n2.venus\\n3.mars\\n4.jupiter\\n5.saturn\\n6.uranus\\n7.neptune\\n\")\n",
        "    try:\n",
        "        # Prompt the user for their weight on Earth\n",
        "        earth_weight = float(input(\"Enter a weight on Earth: \"))\n",
        "\n",
        "        # Prompt the user for the name of a planet\n",
        "        planet = input(\"Enter a planet : \").lower()\n",
        "\n",
        "        # Determine the gravitational constant using if-elif statements\n",
        "        if planet == \"mercury\":\n",
        "            gravity_constant = MERCURY_GRAVITY\n",
        "        elif planet == \"venus\":\n",
        "            gravity_constant = VENUS_GRAVITY\n",
        "        elif planet == \"mars\":\n",
        "            gravity_constant = MARS_GRAVITY\n",
        "        elif planet == \"jupiter\":\n",
        "            gravity_constant = JUPITER_GRAVITY\n",
        "        elif planet == \"saturn\":\n",
        "            gravity_constant = SATURN_GRAVITY\n",
        "        elif planet == \"uranus\":\n",
        "            gravity_constant = URANUS_GRAVITY\n",
        "        elif planet == \"neptune\":\n",
        "            gravity_constant = NEPTUNE_GRAVITY\n",
        "        else:\n",
        "            print(\"Invalid planet name. Please enter one of the planets in our solar system.\")\n",
        "            return\n",
        "\n",
        "        # Calculate the equivalent weight on the selected planet\n",
        "        planetary_weight = earth_weight * gravity_constant\n",
        "        rounded_planetary_weight = round(planetary_weight, 2)\n",
        "\n",
        "        # Print the result\n",
        "        print(\"The equivalent weight on \" + planet + \": \" + str(rounded_planetary_weight))\n",
        "\n",
        "    except ValueError:\n",
        "        print(\"Invalid input. Please enter a numeric value for weight.\")\n",
        "\n",
        "\n",
        "main()\n"
      ],
      "metadata": {
        "colab": {
          "base_uri": "https://localhost:8080/"
        },
        "id": "J7CqjN_qzIIe",
        "outputId": "8684fe85-23c7-4d33-c76a-0f66cfbd0f8d"
      },
      "execution_count": null,
      "outputs": [
        {
          "output_type": "stream",
          "name": "stdout",
          "text": [
            "\n",
            "-----------------PLANETERY_WEIGHT_CALCUTATOR -----------------\n",
            "\n",
            "NAMES OF PLANETS :\n",
            "1.mercury\n",
            "2.venus\n",
            "3.mars\n",
            "4.jupiter\n",
            "5.saturn\n",
            "6.uranus\n",
            "7.neptune\n",
            "\n",
            "Enter a weight on Earth: 55\n",
            "Enter a planet : mars\n",
            "The equivalent weight on mars: 20.79\n"
          ]
        }
      ]
    },
    {
      "cell_type": "markdown",
      "source": [
        "# **03_list_practice.py**"
      ],
      "metadata": {
        "id": "bv-ktF8qz9Hg"
      }
    },
    {
      "cell_type": "code",
      "source": [
        "def lists():\n",
        "    fruit_list=[\"apple\",\"orange\", \"banana\",\"grape\",\"pineapple\"]\n",
        "    print(\"The lenght of fruit_list :\", len(fruit_list))\n",
        "\n",
        "    fruit_list.append(\"mango\")\n",
        "    print(\"After update fruit_list : \",fruit_list)\n",
        "\n",
        "\n",
        "lists()"
      ],
      "metadata": {
        "colab": {
          "base_uri": "https://localhost:8080/"
        },
        "id": "Icyk7UDG0Dng",
        "outputId": "3f3aa3db-2797-4bcf-8cc7-b91addce822a"
      },
      "execution_count": null,
      "outputs": [
        {
          "output_type": "stream",
          "name": "stdout",
          "text": [
            "The lenght of fruit_list : 5\n",
            "After update fruit_list :  ['apple', 'orange', 'banana', 'grape', 'pineapple', 'mango']\n"
          ]
        }
      ]
    },
    {
      "cell_type": "markdown",
      "source": [
        "# **04_index_game.py**"
      ],
      "metadata": {
        "id": "kZMfx14o0N7k"
      }
    },
    {
      "cell_type": "code",
      "source": [
        "def access(my_list , index):\n",
        "    try:\n",
        "        return my_list[int(index)]\n",
        "    except IndexError:\n",
        "        return\"invalid index\"\n",
        "\n",
        "\n",
        "def modify(my_list , index , new_index):\n",
        "    try:\n",
        "        my_list[index]=int(new_index)\n",
        "        return my_list\n",
        "    except IndexError:\n",
        "        return\"Index out of range \"\n",
        "\n",
        "def slice_list(my_list, start_index , end_index):\n",
        "     try:\n",
        "          return my_list[start_index:end_index]\n",
        "\n",
        "     except(ValueError , IndexError):\n",
        "          return \"Invalid range\"\n",
        "\n",
        "\n",
        "def index_game():\n",
        "    print(f\"\\n---------welcome to index game-----------\")\n",
        "    print(f\"\\n------------------------------------------\\n\")\n",
        "    my_list= [10,20,30,40,50]\n",
        "    print(f\"\\nInitial list: {my_list}\")\n",
        "\n",
        "\n",
        "    while True:\n",
        "        print(f\"\\n------------------------------------------\\n\")\n",
        "        print(f\"\\nInitial list: {my_list}\")\n",
        "\n",
        "        print(f\"\\nchoose the option :\")\n",
        "        print(\"1. access list:\")\n",
        "        print(\"2. modify list:\")\n",
        "        print(\"3. slice_list \")\n",
        "        print(f\"4. Exit \\n\")\n",
        "        choice  = input(\"enter your choice : \")\n",
        "\n",
        "        if choice  == \"1\":\n",
        "            index = input(\"enter the index to access : \")\n",
        "            print(\"Element in index\" ,index,\"is :  \", access(my_list,index))\n",
        "        elif choice  == \"2\":\n",
        "            index = int(input(\"enter the index to modify : \"))\n",
        "            if index >= len(my_list) or index< 0:\n",
        "                print (\"enter valid index no\")\n",
        "            else:\n",
        "                new_value = input(\"enter the new value: \")\n",
        "                updated= modify(my_list, index, new_value)\n",
        "                print(updated)\n",
        "\n",
        "        elif choice  == \"3\":\n",
        "\n",
        "            start_index =int(input(\"enter the start index: \"))\n",
        "            end_index= int(input(\"enter the end index :\"))\n",
        "\n",
        "            print(\"sliced list: \",slice_list (my_list , start_index , end_index))\n",
        "        elif choice  == \"4\":\n",
        "            print(\"Good bye! Hope you enjoy the game \")\n",
        "            break\n",
        "\n",
        "        else:\n",
        "            print(\"invalid choice . please select 1 , 2 , 3 or 4 \")\n",
        "\n",
        "\n",
        "index_game()"
      ],
      "metadata": {
        "colab": {
          "base_uri": "https://localhost:8080/"
        },
        "id": "s44-6d0D0S2R",
        "outputId": "a0832ae4-635c-4b8f-ff8f-f53f6f8abee3"
      },
      "execution_count": null,
      "outputs": [
        {
          "output_type": "stream",
          "name": "stdout",
          "text": [
            "\n",
            "---------welcome to index game-----------\n",
            "\n",
            "------------------------------------------\n",
            "\n",
            "\n",
            "Initial list: [10, 20, 30, 40, 50]\n",
            "\n",
            "------------------------------------------\n",
            "\n",
            "\n",
            "Initial list: [10, 20, 30, 40, 50]\n",
            "\n",
            "choose the option :\n",
            "1. access list:\n",
            "2. modify list:\n",
            "3. slice_list \n",
            "4. Exit \n",
            "\n",
            "enter your choice : 1\n",
            "enter the index to access : 3\n",
            "Element in index 3 is :   40\n",
            "\n",
            "------------------------------------------\n",
            "\n",
            "\n",
            "Initial list: [10, 20, 30, 40, 50]\n",
            "\n",
            "choose the option :\n",
            "1. access list:\n",
            "2. modify list:\n",
            "3. slice_list \n",
            "4. Exit \n",
            "\n",
            "enter your choice : 2\n",
            "enter the index to modify : 3\n",
            "enter the new value: 900\n",
            "[10, 20, 30, 900, 50]\n",
            "\n",
            "------------------------------------------\n",
            "\n",
            "\n",
            "Initial list: [10, 20, 30, 900, 50]\n",
            "\n",
            "choose the option :\n",
            "1. access list:\n",
            "2. modify list:\n",
            "3. slice_list \n",
            "4. Exit \n",
            "\n",
            "enter your choice : 2\n",
            "enter the index to modify : 8\n",
            "enter valid index no\n",
            "\n",
            "------------------------------------------\n",
            "\n",
            "\n",
            "Initial list: [10, 20, 30, 900, 50]\n",
            "\n",
            "choose the option :\n",
            "1. access list:\n",
            "2. modify list:\n",
            "3. slice_list \n",
            "4. Exit \n",
            "\n",
            "enter your choice : 8\n",
            "invalid choice . please select 1 , 2 , 3 or 4 \n",
            "\n",
            "------------------------------------------\n",
            "\n",
            "\n",
            "Initial list: [10, 20, 30, 900, 50]\n",
            "\n",
            "choose the option :\n",
            "1. access list:\n",
            "2. modify list:\n",
            "3. slice_list \n",
            "4. Exit \n",
            "\n",
            "enter your choice : 3\n",
            "enter the start index: 2\n",
            "enter the end index :4\n",
            "sliced list:  [30, 900]\n",
            "\n",
            "------------------------------------------\n",
            "\n",
            "\n",
            "Initial list: [10, 20, 30, 900, 50]\n",
            "\n",
            "choose the option :\n",
            "1. access list:\n",
            "2. modify list:\n",
            "3. slice_list \n",
            "4. Exit \n",
            "\n",
            "enter your choice : 4\n",
            "Good bye! Hope you enjoy the game \n"
          ]
        }
      ]
    }
  ]
}